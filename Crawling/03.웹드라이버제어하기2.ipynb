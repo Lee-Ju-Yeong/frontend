{
 "cells": [
  {
   "cell_type": "code",
   "execution_count": 1,
   "metadata": {},
   "outputs": [],
   "source": [
    "# 웹드라이버 객체 생성\n",
    "from selenium import webdriver\n",
    "import time\n",
    "\n",
    "driver = webdriver.Chrome()\n",
    "driver.get('http://www.naver.com')\n",
    "driver.maximize_window()"
   ]
  },
  {
   "cell_type": "code",
   "execution_count": 2,
   "metadata": {},
   "outputs": [
    {
     "data": {
      "text/plain": [
       "<selenium.webdriver.remote.webelement.WebElement (session=\"fca9487534af8ae1c445e9b31f978819\", element=\"f.FF07ECAAE4C500DEF0B95C7DF2DB0B6F.d.224BDA02E08E76CE1E3EF16A62B30CC9.e.6\")>"
      ]
     },
     "execution_count": 2,
     "metadata": {},
     "output_type": "execute_result"
    }
   ],
   "source": [
    "# CSS선택자로 원하는 요소 객체 가져오기\n",
    "from selenium.webdriver.common.by import By\n",
    "search = driver.find_element(By.CSS_SELECTOR, \"#query\") \n",
    "search\n"
   ]
  },
  {
   "cell_type": "code",
   "execution_count": 3,
   "metadata": {},
   "outputs": [],
   "source": [
    "# 요소 클릭하기\n",
    "search.click()"
   ]
  },
  {
   "cell_type": "code",
   "execution_count": 4,
   "metadata": {},
   "outputs": [],
   "source": [
    "# 문자 입력하기\n",
    "search.send_keys(\"인공지능\")"
   ]
  },
  {
   "cell_type": "code",
   "execution_count": 5,
   "metadata": {},
   "outputs": [],
   "source": [
    "# 입력한 내용 삭제하기\n",
    "search.clear()"
   ]
  },
  {
   "cell_type": "code",
   "execution_count": 6,
   "metadata": {},
   "outputs": [],
   "source": [
    "# 엔터키 입력하기\n",
    "from selenium.webdriver.common.keys import Keys\n",
    "search.send_keys(Keys.ENTER)"
   ]
  },
  {
   "cell_type": "code",
   "execution_count": 7,
   "metadata": {},
   "outputs": [
    {
     "ename": "StaleElementReferenceException",
     "evalue": "Message: stale element reference: stale element not found\n  (Session info: chrome=126.0.6478.127); For documentation on this error, please visit: https://www.selenium.dev/documentation/webdriver/troubleshooting/errors#stale-element-reference-exception\nStacktrace:\n\tGetHandleVerifier [0x00007FF61CB4EEB2+31554]\n\t(No symbol) [0x00007FF61CAC7EE9]\n\t(No symbol) [0x00007FF61C98872A]\n\t(No symbol) [0x00007FF61C99ADBD]\n\t(No symbol) [0x00007FF61C99B84A]\n\t(No symbol) [0x00007FF61C98F5BB]\n\t(No symbol) [0x00007FF61C98D326]\n\t(No symbol) [0x00007FF61C990EB1]\n\t(No symbol) [0x00007FF61C990F50]\n\t(No symbol) [0x00007FF61C9D9192]\n\t(No symbol) [0x00007FF61C9D9272]\n\t(No symbol) [0x00007FF61C9CF119]\n\t(No symbol) [0x00007FF61C9FD02A]\n\t(No symbol) [0x00007FF61C9CBA76]\n\t(No symbol) [0x00007FF61C9FD240]\n\t(No symbol) [0x00007FF61CA1C977]\n\t(No symbol) [0x00007FF61C9FCDD3]\n\t(No symbol) [0x00007FF61C9CA33B]\n\t(No symbol) [0x00007FF61C9CAED1]\n\tGetHandleVerifier [0x00007FF61CE58B2D+3217341]\n\tGetHandleVerifier [0x00007FF61CEA5AF3+3532675]\n\tGetHandleVerifier [0x00007FF61CE9B0F0+3489152]\n\tGetHandleVerifier [0x00007FF61CBFE786+750614]\n\t(No symbol) [0x00007FF61CAD376F]\n\t(No symbol) [0x00007FF61CACEB24]\n\t(No symbol) [0x00007FF61CACECB2]\n\t(No symbol) [0x00007FF61CABE17F]\n\tBaseThreadInitThunk [0x00007FF9BBE77374+20]\n\tRtlUserThreadStart [0x00007FF9BC43CC91+33]\n",
     "output_type": "error",
     "traceback": [
      "\u001b[1;31m---------------------------------------------------------------------------\u001b[0m",
      "\u001b[1;31mStaleElementReferenceException\u001b[0m            Traceback (most recent call last)",
      "Cell \u001b[1;32mIn[7], line 2\u001b[0m\n\u001b[0;32m      1\u001b[0m \u001b[38;5;66;03m# 순차적으로 키 입력하기\u001b[39;00m\n\u001b[1;32m----> 2\u001b[0m \u001b[43msearch\u001b[49m\u001b[38;5;241;43m.\u001b[39;49m\u001b[43msend_keys\u001b[49m\u001b[43m(\u001b[49m\u001b[38;5;124;43m\"\u001b[39;49m\u001b[38;5;124;43m인공지능\u001b[39;49m\u001b[38;5;124;43m\"\u001b[39;49m\u001b[43m,\u001b[49m\u001b[43m \u001b[49m\u001b[43mKeys\u001b[49m\u001b[38;5;241;43m.\u001b[39;49m\u001b[43mENTER\u001b[49m\u001b[43m)\u001b[49m\n",
      "File \u001b[1;32m~\\AppData\\Roaming\\Python\\Python312\\site-packages\\selenium\\webdriver\\remote\\webelement.py:231\u001b[0m, in \u001b[0;36mWebElement.send_keys\u001b[1;34m(self, *value)\u001b[0m\n\u001b[0;32m    228\u001b[0m             remote_files\u001b[38;5;241m.\u001b[39mappend(\u001b[38;5;28mself\u001b[39m\u001b[38;5;241m.\u001b[39m_upload(file))\n\u001b[0;32m    229\u001b[0m         value \u001b[38;5;241m=\u001b[39m \u001b[38;5;124m\"\u001b[39m\u001b[38;5;130;01m\\n\u001b[39;00m\u001b[38;5;124m\"\u001b[39m\u001b[38;5;241m.\u001b[39mjoin(remote_files)\n\u001b[1;32m--> 231\u001b[0m \u001b[38;5;28;43mself\u001b[39;49m\u001b[38;5;241;43m.\u001b[39;49m\u001b[43m_execute\u001b[49m\u001b[43m(\u001b[49m\n\u001b[0;32m    232\u001b[0m \u001b[43m    \u001b[49m\u001b[43mCommand\u001b[49m\u001b[38;5;241;43m.\u001b[39;49m\u001b[43mSEND_KEYS_TO_ELEMENT\u001b[49m\u001b[43m,\u001b[49m\u001b[43m \u001b[49m\u001b[43m{\u001b[49m\u001b[38;5;124;43m\"\u001b[39;49m\u001b[38;5;124;43mtext\u001b[39;49m\u001b[38;5;124;43m\"\u001b[39;49m\u001b[43m:\u001b[49m\u001b[43m \u001b[49m\u001b[38;5;124;43m\"\u001b[39;49m\u001b[38;5;124;43m\"\u001b[39;49m\u001b[38;5;241;43m.\u001b[39;49m\u001b[43mjoin\u001b[49m\u001b[43m(\u001b[49m\u001b[43mkeys_to_typing\u001b[49m\u001b[43m(\u001b[49m\u001b[43mvalue\u001b[49m\u001b[43m)\u001b[49m\u001b[43m)\u001b[49m\u001b[43m,\u001b[49m\u001b[43m \u001b[49m\u001b[38;5;124;43m\"\u001b[39;49m\u001b[38;5;124;43mvalue\u001b[39;49m\u001b[38;5;124;43m\"\u001b[39;49m\u001b[43m:\u001b[49m\u001b[43m \u001b[49m\u001b[43mkeys_to_typing\u001b[49m\u001b[43m(\u001b[49m\u001b[43mvalue\u001b[49m\u001b[43m)\u001b[49m\u001b[43m}\u001b[49m\n\u001b[0;32m    233\u001b[0m \u001b[43m\u001b[49m\u001b[43m)\u001b[49m\n",
      "File \u001b[1;32m~\\AppData\\Roaming\\Python\\Python312\\site-packages\\selenium\\webdriver\\remote\\webelement.py:395\u001b[0m, in \u001b[0;36mWebElement._execute\u001b[1;34m(self, command, params)\u001b[0m\n\u001b[0;32m    393\u001b[0m     params \u001b[38;5;241m=\u001b[39m {}\n\u001b[0;32m    394\u001b[0m params[\u001b[38;5;124m\"\u001b[39m\u001b[38;5;124mid\u001b[39m\u001b[38;5;124m\"\u001b[39m] \u001b[38;5;241m=\u001b[39m \u001b[38;5;28mself\u001b[39m\u001b[38;5;241m.\u001b[39m_id\n\u001b[1;32m--> 395\u001b[0m \u001b[38;5;28;01mreturn\u001b[39;00m \u001b[38;5;28;43mself\u001b[39;49m\u001b[38;5;241;43m.\u001b[39;49m\u001b[43m_parent\u001b[49m\u001b[38;5;241;43m.\u001b[39;49m\u001b[43mexecute\u001b[49m\u001b[43m(\u001b[49m\u001b[43mcommand\u001b[49m\u001b[43m,\u001b[49m\u001b[43m \u001b[49m\u001b[43mparams\u001b[49m\u001b[43m)\u001b[49m\n",
      "File \u001b[1;32m~\\AppData\\Roaming\\Python\\Python312\\site-packages\\selenium\\webdriver\\remote\\webdriver.py:347\u001b[0m, in \u001b[0;36mWebDriver.execute\u001b[1;34m(self, driver_command, params)\u001b[0m\n\u001b[0;32m    345\u001b[0m response \u001b[38;5;241m=\u001b[39m \u001b[38;5;28mself\u001b[39m\u001b[38;5;241m.\u001b[39mcommand_executor\u001b[38;5;241m.\u001b[39mexecute(driver_command, params)\n\u001b[0;32m    346\u001b[0m \u001b[38;5;28;01mif\u001b[39;00m response:\n\u001b[1;32m--> 347\u001b[0m     \u001b[38;5;28;43mself\u001b[39;49m\u001b[38;5;241;43m.\u001b[39;49m\u001b[43merror_handler\u001b[49m\u001b[38;5;241;43m.\u001b[39;49m\u001b[43mcheck_response\u001b[49m\u001b[43m(\u001b[49m\u001b[43mresponse\u001b[49m\u001b[43m)\u001b[49m\n\u001b[0;32m    348\u001b[0m     response[\u001b[38;5;124m\"\u001b[39m\u001b[38;5;124mvalue\u001b[39m\u001b[38;5;124m\"\u001b[39m] \u001b[38;5;241m=\u001b[39m \u001b[38;5;28mself\u001b[39m\u001b[38;5;241m.\u001b[39m_unwrap_value(response\u001b[38;5;241m.\u001b[39mget(\u001b[38;5;124m\"\u001b[39m\u001b[38;5;124mvalue\u001b[39m\u001b[38;5;124m\"\u001b[39m, \u001b[38;5;28;01mNone\u001b[39;00m))\n\u001b[0;32m    349\u001b[0m     \u001b[38;5;28;01mreturn\u001b[39;00m response\n",
      "File \u001b[1;32m~\\AppData\\Roaming\\Python\\Python312\\site-packages\\selenium\\webdriver\\remote\\errorhandler.py:229\u001b[0m, in \u001b[0;36mErrorHandler.check_response\u001b[1;34m(self, response)\u001b[0m\n\u001b[0;32m    227\u001b[0m         alert_text \u001b[38;5;241m=\u001b[39m value[\u001b[38;5;124m\"\u001b[39m\u001b[38;5;124malert\u001b[39m\u001b[38;5;124m\"\u001b[39m]\u001b[38;5;241m.\u001b[39mget(\u001b[38;5;124m\"\u001b[39m\u001b[38;5;124mtext\u001b[39m\u001b[38;5;124m\"\u001b[39m)\n\u001b[0;32m    228\u001b[0m     \u001b[38;5;28;01mraise\u001b[39;00m exception_class(message, screen, stacktrace, alert_text)  \u001b[38;5;66;03m# type: ignore[call-arg]  # mypy is not smart enough here\u001b[39;00m\n\u001b[1;32m--> 229\u001b[0m \u001b[38;5;28;01mraise\u001b[39;00m exception_class(message, screen, stacktrace)\n",
      "\u001b[1;31mStaleElementReferenceException\u001b[0m: Message: stale element reference: stale element not found\n  (Session info: chrome=126.0.6478.127); For documentation on this error, please visit: https://www.selenium.dev/documentation/webdriver/troubleshooting/errors#stale-element-reference-exception\nStacktrace:\n\tGetHandleVerifier [0x00007FF61CB4EEB2+31554]\n\t(No symbol) [0x00007FF61CAC7EE9]\n\t(No symbol) [0x00007FF61C98872A]\n\t(No symbol) [0x00007FF61C99ADBD]\n\t(No symbol) [0x00007FF61C99B84A]\n\t(No symbol) [0x00007FF61C98F5BB]\n\t(No symbol) [0x00007FF61C98D326]\n\t(No symbol) [0x00007FF61C990EB1]\n\t(No symbol) [0x00007FF61C990F50]\n\t(No symbol) [0x00007FF61C9D9192]\n\t(No symbol) [0x00007FF61C9D9272]\n\t(No symbol) [0x00007FF61C9CF119]\n\t(No symbol) [0x00007FF61C9FD02A]\n\t(No symbol) [0x00007FF61C9CBA76]\n\t(No symbol) [0x00007FF61C9FD240]\n\t(No symbol) [0x00007FF61CA1C977]\n\t(No symbol) [0x00007FF61C9FCDD3]\n\t(No symbol) [0x00007FF61C9CA33B]\n\t(No symbol) [0x00007FF61C9CAED1]\n\tGetHandleVerifier [0x00007FF61CE58B2D+3217341]\n\tGetHandleVerifier [0x00007FF61CEA5AF3+3532675]\n\tGetHandleVerifier [0x00007FF61CE9B0F0+3489152]\n\tGetHandleVerifier [0x00007FF61CBFE786+750614]\n\t(No symbol) [0x00007FF61CAD376F]\n\t(No symbol) [0x00007FF61CACEB24]\n\t(No symbol) [0x00007FF61CACECB2]\n\t(No symbol) [0x00007FF61CABE17F]\n\tBaseThreadInitThunk [0x00007FF9BBE77374+20]\n\tRtlUserThreadStart [0x00007FF9BC43CC91+33]\n"
     ]
    }
   ],
   "source": [
    "# 순차적으로 키 입력하기\n",
    "search.send_keys(\"인공지능\", Keys.ENTER)"
   ]
  },
  {
   "cell_type": "code",
   "execution_count": 8,
   "metadata": {},
   "outputs": [],
   "source": [
    "# 라이브러리 불러오기\n",
    "from selenium import webdriver\n",
    "from selenium.webdriver.common.by import By\n",
    "from selenium.webdriver.common.keys import Keys\n",
    "import time\n",
    "\n",
    "# 사용자에게 검색어 입력받기\n",
    "query_txt = input('검색하고자 하는 키워드를 입력하세요.')\n",
    "\n",
    "# 웹드라이버 객체 생성\n",
    "driver = webdriver.Chrome()\n",
    "driver.get('http://www.naver.com')\n",
    "time.sleep(2)\n",
    "\n",
    "# CSS선택자로 검색어 입력창 객체 가져오기\n",
    "search = driver.find_element(By.CSS_SELECTOR, \"#query\")\n",
    "time.sleep(1)\n",
    "\n",
    "# 검색어 입력창에 검색어 입력하여 검색하기\n",
    "search.click()\n",
    "time.sleep(1)\n",
    "search.send_keys(query_txt)\n",
    "time.sleep(1)\n",
    "search.send_keys(Keys.ENTER)\n"
   ]
  },
  {
   "cell_type": "code",
   "execution_count": 9,
   "metadata": {},
   "outputs": [],
   "source": [
    "# 라이브러리 불러오기\n",
    "from selenium import webdriver\n",
    "from selenium.webdriver.common.by import By\n",
    "from selenium.webdriver.common.keys import Keys\n",
    "\n",
    "# 사용자에게 검색어 입력받기\n",
    "query_txt = input('검색하고자 하는 키워드를 입력하세요 --> ')\n",
    "\n",
    "# 웹드라이버 객체 생성\n",
    "driver = webdriver.Chrome()\n",
    "driver.get('http://www.naver.com')\n",
    "\n",
    "# 암시적 대기시간 설정(전체적으로 적용되므로 한번만 써주면 됨)\n",
    "driver.implicitly_wait(5)\n",
    "\n",
    "# CSS선택자로 검색어 입력창 객체 가져오기\n",
    "search = driver.find_element(By.CSS_SELECTOR, \"#query\")\n",
    "\n",
    "# 검색어 입력창에 검색어 입력하여 검색하기\n",
    "search.click()\n",
    "search.send_keys(query_txt, Keys.ENTER)\n"
   ]
  }
 ],
 "metadata": {
  "kernelspec": {
   "display_name": "Python 3",
   "language": "python",
   "name": "python3"
  },
  "language_info": {
   "codemirror_mode": {
    "name": "ipython",
    "version": 3
   },
   "file_extension": ".py",
   "mimetype": "text/x-python",
   "name": "python",
   "nbconvert_exporter": "python",
   "pygments_lexer": "ipython3",
   "version": "3.12.4"
  }
 },
 "nbformat": 4,
 "nbformat_minor": 2
}
